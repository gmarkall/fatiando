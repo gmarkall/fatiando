{
 "cells": [
  {
   "cell_type": "code",
   "execution_count": 2,
   "metadata": {
    "collapsed": true
   },
   "outputs": [],
   "source": [
    "from __future__ import division\n",
    "import numpy as np\n",
    "from numpy.testing import assert_array_almost_equal, assert_allclose\n",
    "from nose.tools import assert_raises\n",
    "\n",
    "from fatiando.gravmag import tesseroid\n",
    "from fatiando.mesher import Tesseroid, TesseroidMesh\n",
    "from fatiando import gridder\n",
    "from fatiando.constants import SI2MGAL, SI2EOTVOS, G, MEAN_EARTH_RADIUS\n",
    "\n",
    "from timeit import default_timer"
   ]
  },
  {
   "cell_type": "code",
   "execution_count": 3,
   "metadata": {
    "collapsed": true
   },
   "outputs": [],
   "source": [
    "model = TesseroidMesh((0, 1, 0, 2, 1000, 0), (2, 2, 1))\n",
    "model.addprop('density', -200*np.ones(model.size))\n",
    "lon, lat, height = gridder.regular((0, 1, 0, 2), (20, 20), z=250e3)\n"
   ]
  },
  {
   "cell_type": "code",
   "execution_count": 12,
   "metadata": {
    "collapsed": false
   },
   "outputs": [
    {
     "name": "stdout",
     "output_type": "stream",
     "text": [
      "Time 0.000818014144897\n",
      "Time 0.00144696235657\n",
      "Time 0.00145101547241\n",
      "Time 0.00148606300354\n",
      "Time 0.0206160545349\n",
      "Time 0.0199398994446\n",
      "Time 0.01926612854\n",
      "Time 0.0199959278107\n",
      "Time 0.0203440189362\n",
      "Time 0.0190961360931\n"
     ]
    }
   ],
   "source": [
    "# Was run with closure\n",
    "for f in 'potential gx gy gz gxx gxy gxz gyy gyz gzz'.split():\n",
    "    func = getattr(tesseroid, f)\n",
    "    s = default_timer()\n",
    "    nb = func(lon, lat, height, model, engine='numba')\n",
    "    e = default_timer()\n",
    "    print \"Time\", e - s"
   ]
  },
  {
   "cell_type": "code",
   "execution_count": 5,
   "metadata": {
    "collapsed": false
   },
   "outputs": [
    {
     "name": "stdout",
     "output_type": "stream",
     "text": [
      "Time 0.000754833221436\n",
      "Time 0.00151109695435\n",
      "Time 0.00145506858826\n",
      "Time 0.00140619277954\n",
      "Time 0.0214982032776\n",
      "Time 0.0209009647369\n",
      "Time 0.0202569961548\n",
      "Time 0.0215170383453\n",
      "Time 0.021959066391\n",
      "Time 0.0202510356903\n"
     ]
    }
   ],
   "source": [
    "# Run without closure\n",
    "for f in 'potential gx gy gz gxx gxy gxz gyy gyz gzz'.split():\n",
    "    func = getattr(tesseroid, f)\n",
    "    s = default_timer()\n",
    "    nb = func(lon, lat, height, model, engine='numba')\n",
    "    e = default_timer()\n",
    "    print \"Time\", e - s"
   ]
  },
  {
   "cell_type": "code",
   "execution_count": null,
   "metadata": {
    "collapsed": true
   },
   "outputs": [],
   "source": []
  }
 ],
 "metadata": {
  "kernelspec": {
   "display_name": "Python 2",
   "language": "python",
   "name": "python2"
  },
  "language_info": {
   "codemirror_mode": {
    "name": "ipython",
    "version": 2
   },
   "file_extension": ".py",
   "mimetype": "text/x-python",
   "name": "python",
   "nbconvert_exporter": "python",
   "pygments_lexer": "ipython2",
   "version": "2.7.9"
  }
 },
 "nbformat": 4,
 "nbformat_minor": 0
}
